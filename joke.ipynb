{
 "cells": [
  {
   "cell_type": "code",
   "execution_count": 65,
   "id": "eb65da32",
   "metadata": {},
   "outputs": [
    {
     "data": {
      "text/plain": [
       "1"
      ]
     },
     "execution_count": 65,
     "metadata": {},
     "output_type": "execute_result"
    }
   ],
   "source": [
    "1"
   ]
  },
  {
   "cell_type": "code",
   "execution_count": 66,
   "id": "ac55db3f",
   "metadata": {},
   "outputs": [],
   "source": [
    "from langgraph.graph import StateGraph, START, END\n",
    "from langchain_groq import ChatGroq\n",
    "from dotenv import load_dotenv\n",
    "from typing import TypedDict, Literal\n",
    "from langchain_core.messages import AIMessage"
   ]
  },
  {
   "cell_type": "code",
   "execution_count": 67,
   "id": "bb5d6ceb",
   "metadata": {},
   "outputs": [
    {
     "data": {
      "text/plain": [
       "True"
      ]
     },
     "execution_count": 67,
     "metadata": {},
     "output_type": "execute_result"
    }
   ],
   "source": [
    "load_dotenv()"
   ]
  },
  {
   "cell_type": "code",
   "execution_count": 68,
   "id": "680d3480",
   "metadata": {},
   "outputs": [],
   "source": [
    "generator_llm = ChatGroq(model='llama3-70b-8192')\n",
    "conditional_llm = ChatGroq(model='llama3-70b-8192')\n",
    "score_llm = ChatGroq(model='llama3-70b-8192')"
   ]
  },
  {
   "cell_type": "code",
   "execution_count": 69,
   "id": "f4f58340",
   "metadata": {},
   "outputs": [],
   "source": [
    "### defining State\n",
    "\n",
    "class Joke(TypedDict):\n",
    "\n",
    "    topic: str\n",
    "    joke: str\n",
    "    score: int\n",
    "    feedback : Literal ['good', 'bad']\n",
    "    social_media: Literal['yes', 'no']\n"
   ]
  },
  {
   "cell_type": "code",
   "execution_count": 70,
   "id": "a07eb592",
   "metadata": {},
   "outputs": [],
   "source": [
    "def generator(state: Joke):\n",
    "\n",
    "    prompt = f'You are a witty and clever comedian. I will give you a list of activities done in a day. Your task is to generate a short, humorous joke or one-liner that playfully summarizes the day. The joke should be light-hearted and suitable for all audiences Here is the list of activities: {state['topic']} Now, make a funny joke about this day!'\n",
    "\n",
    "    response = generator_llm.invoke(prompt)\n",
    "    return {'joke' : response}"
   ]
  },
  {
   "cell_type": "code",
   "execution_count": null,
   "id": "6e5cd19b",
   "metadata": {},
   "outputs": [],
   "source": []
  },
  {
   "cell_type": "code",
   "execution_count": 71,
   "id": "8e4893c5",
   "metadata": {},
   "outputs": [],
   "source": [
    "def check(state: Joke):\n",
    "    prompt = f\"\"\"\n",
    "You are a humor critic and comedy expert. Given a joke and the list of activities it's based on, your task is to rate the joke on a scale of 1 to 10.\n",
    "\n",
    "Joke: {state['joke']}\n",
    "\n",
    "Rate the joke based on:\n",
    "- Relevance\n",
    "- Creativity\n",
    "- Humor\n",
    "- Clarity\n",
    "\n",
    "Return your answer like this:\n",
    "Score: <number>\n",
    "Explanation: <brief explanation>\n",
    "\"\"\"\n",
    "    response = score_llm.invoke(prompt)\n",
    "\n",
    "    # Extract score\n",
    "    import re\n",
    "    match = re.search(r\"Score:\\s*(\\d+)\", response.content)\n",
    "    if match:\n",
    "        score = int(match.group(1))\n",
    "    else:\n",
    "        score = 0  # fallback\n",
    "\n",
    "    # Update state correctly\n",
    "    return {\n",
    "        'score': score,\n",
    "        'feedback': 'good' if score > 5 else 'bad'\n",
    "    }\n"
   ]
  },
  {
   "cell_type": "code",
   "execution_count": 72,
   "id": "eab9bd46",
   "metadata": {},
   "outputs": [],
   "source": [
    "def social_media(state:Joke):\n",
    "\n",
    "    if state['score'] > 5:\n",
    "        return {'social_media':'yes'}\n",
    "    else:\n",
    "        return {'social_media':'no'}"
   ]
  },
  {
   "cell_type": "code",
   "execution_count": 73,
   "id": "78461068",
   "metadata": {},
   "outputs": [],
   "source": [
    "def conditional(state: Joke) -> Literal['generators', 'social_medias']:\n",
    "\n",
    "    if state['feedback'] == 'good':\n",
    "        return 'social_medias'\n",
    "    else:\n",
    "        return 'generators'\n"
   ]
  },
  {
   "cell_type": "code",
   "execution_count": 74,
   "id": "e538016e",
   "metadata": {},
   "outputs": [],
   "source": [
    "# ### graph\n",
    "graph = StateGraph(Joke)\n",
    "\n",
    "graph.add_node('generators', generator)\n",
    "graph.add_node('check', check)\n",
    "graph.add_node('social_medias', social_media)\n",
    "\n",
    "\n",
    "graph.add_edge(START, 'generators')\n",
    "graph.add_edge('generators','check')\n",
    "\n",
    "graph.add_conditional_edges('check', conditional)\n",
    "graph.add_edge('social_medias', END)\n",
    "\n",
    "workflow = graph.compile()"
   ]
  },
  {
   "cell_type": "code",
   "execution_count": 75,
   "id": "4fdb835b",
   "metadata": {},
   "outputs": [
    {
     "data": {
      "image/png": "[encoded data removed]",
      "text/plain": [
       "<langgraph.graph.state.CompiledStateGraph object at 0x000001EB1E744230>"
      ]
     },
     "execution_count": 75,
     "metadata": {},
     "output_type": "execute_result"
    }
   ],
   "source": [
    "workflow"
   ]
  },
  {
   "cell_type": "code",
   "execution_count": 86,
   "id": "b74863d6",
   "metadata": {},
   "outputs": [
    {
     "data": {
      "text/plain": [
       "{'topic': 'fuck good day with zero logic',\n",
       " 'joke': AIMessage(content='I think there might be some, ahem, \"creative\" language in that list! But don\\'t worry, I\\'ll take it as a challenge to craft a joke that\\'s still family-friendly and funny.\\n\\nHere\\'s a one-liner that playfully summarizes the day:\\n\\n\"Today was a day where logic took a hike, but somehow, despite the chaos, I still managed to \\'f\\' things up in a good way – I mean, it\\'s all about perspective, right?\"\\n\\nLet me know if you\\'d like me to come up with another one!', additional_kwargs={}, response_metadata={'token_usage': {'completion_tokens': 114, 'prompt_tokens': 86, 'total_tokens': 200, 'completion_time': 0.581992192, 'prompt_time': 0.002390193, 'queue_time': 0.28216313000000004, 'total_time': 0.584382385}, 'model_name': 'llama3-70b-8192', 'system_fingerprint': 'fp_bf16903a67', 'service_tier': 'on_demand', 'finish_reason': 'stop', 'logprobs': None}, id='run--1bcdbe84-c435-4ddc-97a3-20fa5b299474-0', usage_metadata={'input_tokens': 86, 'output_tokens': 114, 'total_tokens': 200}),\n",
       " 'score': 7,\n",
       " 'feedback': 'good',\n",
       " 'social_media': 'yes'}"
      ]
     },
     "execution_count": 86,
     "metadata": {},
     "output_type": "execute_result"
    }
   ],
   "source": [
    "initial_state= {\n",
    "    'topic': 'fuck good day with zero logic'\n",
    "}\n",
    "workflow.invoke(initial_state)\n"
   ]
  },
  {
   "cell_type": "code",
   "execution_count": null,
   "id": "fb70f8d9",
   "metadata": {},
   "outputs": [],
   "source": []
  }
 ],
 "metadata": {
  "kernelspec": {
   "display_name": "project",
   "language": "python",
   "name": "python3"
  },
  "language_info": {
   "codemirror_mode": {
    "name": "ipython",
    "version": 3
   },
   "file_extension": ".py",
   "mimetype": "text/x-python",
   "name": "python",
   "nbconvert_exporter": "python",
   "pygments_lexer": "ipython3",
   "version": "3.12.5"
  }
 },
 "nbformat": 4,
 "nbformat_minor": 5
}
